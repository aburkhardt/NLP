{
 "cells": [
  {
   "cell_type": "code",
   "execution_count": 4,
   "metadata": {
    "collapsed": true
   },
   "outputs": [],
   "source": [
    "from random import random\n",
    "import math\n",
    "import re"
   ]
  },
  {
   "cell_type": "code",
   "execution_count": 6,
   "metadata": {},
   "outputs": [
    {
     "name": "stdout",
     "output_type": "stream",
     "text": [
      "Wrote 11018 lines to /Users/amyburkhardt/Dropbox/NLP Readings/hw3/rand_training.txt\n",
      "Wrote 2777 lines to /Users/amyburkhardt/Dropbox/NLP Readings/hw3/rand_test.txt\n"
     ]
    }
   ],
   "source": [
    "# probability of each sentence being saved in training file\n",
    "keep_prob = 0.8\n",
    "\n",
    "#path to corpus file\n",
    "corpus_path = \"/Users/amyburkhardt/Dropbox/NLP Readings/hw3/gene-trainF17.txt\"\n",
    "    \n",
    "# path to the training output file\n",
    "train_path = \"/Users/amyburkhardt/Dropbox/NLP Readings/hw3/rand_training.txt\"\n",
    "\n",
    "# path to the testing output file\n",
    "test_path = \"/Users/amyburkhardt/Dropbox/NLP Readings/hw3/rand_test.txt\"\n",
    "\n",
    "# open output files\n",
    "train_f = open(train_path, 'w')\n",
    "test_f = open(test_path, 'w')\n",
    "\n",
    "keep_count, test_count = 0, 0\n",
    "with open(corpus_path) as f:\n",
    "    sentence = \"\"\n",
    "    for line in f:\n",
    "        sentence += line\n",
    "        if line == \"\\n\":\n",
    "            # We're at the end of a sentence; write it somewhere\n",
    "            if random() <= keep_prob:\n",
    "                 # write to train_corpus\n",
    "                train_f.write(sentence)\n",
    "                keep_count += 1\n",
    "            else:\n",
    "                    # write to test_corpus\n",
    "                test_f.write(sentence)\n",
    "                test_count += 1\n",
    "            sentence = \"\"\n",
    "\n",
    "# close output files\n",
    "train_f.close()\n",
    "test_f.close()\n",
    "\n",
    "# report\n",
    "print(\"Wrote %d lines to %s\" % (keep_count, train_path))\n",
    "print(\"Wrote %d lines to %s\" % (test_count, test_path))"
   ]
  },
  {
   "cell_type": "code",
   "execution_count": null,
   "metadata": {
    "collapsed": true
   },
   "outputs": [],
   "source": []
  }
 ],
 "metadata": {
  "kernelspec": {
   "display_name": "Python 3",
   "language": "python",
   "name": "python3"
  },
  "language_info": {
   "codemirror_mode": {
    "name": "ipython",
    "version": 3
   },
   "file_extension": ".py",
   "mimetype": "text/x-python",
   "name": "python",
   "nbconvert_exporter": "python",
   "pygments_lexer": "ipython3",
   "version": "3.5.2"
  }
 },
 "nbformat": 4,
 "nbformat_minor": 2
}
