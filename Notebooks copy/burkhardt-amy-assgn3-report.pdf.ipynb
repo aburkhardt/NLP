{
 "cells": [
  {
   "cell_type": "code",
   "execution_count": 6,
   "metadata": {
    "collapsed": true
   },
   "outputs": [],
   "source": [
    "from IPython.display import Image"
   ]
  },
  {
   "cell_type": "markdown",
   "metadata": {},
   "source": [
    "# Implementing a Naive Bayes Text Classification System\n",
    "## Overview\n",
    "The purpose of assignment 3 is to classify hotel reviews as either Postive or Negative, using a naive Bayes approach. The performance of the system was evaluated based on a 20% DevTest sample (16 positive reviews, and 18 negative reviews). Precision, Recall, F-score and overall accuracy were used as evaluation metrics (where POS labels were considered as positive classifications; NEG labels were considered negative classifications). \n",
    "\n",
    "###  Bayes Theorem \n",
    "We are using the Bayes Theorem to answer the question: What is a probability of a category, given a document. So, in the equation below, x = category, and y = document. \n"
   ]
  },
  {
   "cell_type": "code",
   "execution_count": 12,
   "metadata": {},
   "outputs": [
    {
     "data": {
      "image/png": "[encoded data removed]",
      "text/plain": [
       "<IPython.core.display.Image object>"
      ]
     },
     "execution_count": 12,
     "metadata": {},
     "output_type": "execute_result"
    }
   ],
   "source": [
    "Image(filename =\"/Users/amyburkhardt/Dropbox/Screenshots/nb.png\")"
   ]
  },
  {
   "cell_type": "markdown",
   "metadata": {},
   "source": [
    "The Bayes Theoroem can be further simplified for our purposes. First, we can remove the prior estimate P(x), because the probability of a review being either positive or negative in the test set will be .50. We can also remove the denominator from the equation, because this will be a constant.  Therefore, the final equation is as follows (adding together the log of the probabilities turns this into a linear classifier):"
   ]
  },
  {
   "cell_type": "code",
   "execution_count": 10,
   "metadata": {
    "scrolled": false
   },
   "outputs": [
    {
     "data": {
      "image/png": "[encoded data removed]",
      "text/plain": [
       "<IPython.core.display.Image object>"
      ]
     },
     "execution_count": 10,
     "metadata": {},
     "output_type": "execute_result"
    }
   ],
   "source": [
    "Image(filename = \"/Users/amyburkhardt/Dropbox/Screenshots/nb2.png\")"
   ]
  },
  {
   "cell_type": "markdown",
   "metadata": {},
   "source": [
    "### Training the Classifier\n",
    "To train the classifier, I created two separate dictionaries to store conditional probabilities, one for Positive reviews and one for Negative reviews. All words that are present in both the Negative and Positive training sets are present in both of these dictionaries as keys. Conditional probabilities were computed by the count of the word in the traning data for a particular category, divided by the total number of words in that category (see equation below). +1 smoothing has been applied here, in the event that a word appears only in the Positive or Negative training samples. Therefore, 1 is added to the numerator, and the total count of the length of all unique words present in the training sample are added to the denominator. \n"
   ]
  },
  {
   "cell_type": "code",
   "execution_count": 7,
   "metadata": {
    "scrolled": true
   },
   "outputs": [
    {
     "data": {
      "image/png": "[encoded data removed]",
      "text/plain": [
       "<IPython.core.display.Image object>"
      ]
     },
     "execution_count": 7,
     "metadata": {},
     "output_type": "execute_result"
    }
   ],
   "source": [
    "Image(filename = \"/Users/amyburkhardt/Dropbox/Screenshots/nb3.png\")"
   ]
  },
  {
   "cell_type": "markdown",
   "metadata": {},
   "source": [
    "### Classifying New Reviews\n",
    "After the classifier has been trained, the probability of the two categories (POS and NEG) are computed for each new review. That is, using one conditional probability dictionary at a time, I find the associated probabilties for all words in the new review. I then add all of these logprobs together,  and arrive at two different probability computations: (1) the probability of POS, given the reivew; and (2) the probability of NEG, given the review. \n",
    "\n",
    "These probabilities are then compared, and the category (POS or NEG) of the higher probability then is used to assign a label to the new review. \n",
    "\n",
    "Words that are in a new review, but were not in the training data, are disregarded when computing these probabilities.\n",
    "\n",
    "No special libraries were used in the implementation of this naive Bayes classifier. \n",
    "\n"
   ]
  },
  {
   "cell_type": "markdown",
   "metadata": {},
   "source": [
    "## Evaluating performance \n",
    "Below are the performance metrics for the DevTest set (n=34). <p>\n",
    "\n",
    "<b>Precision: .88 <p> \n",
    "TP / (TP + FP) (so, the more FP will decrase the Precision value) <p>\n",
    "Recall: .94 <p>\n",
    "TP / (TP + FN) (so, more FN will decrase the Recall value) <p>\n",
    "Accuracy: .91 <p>\n",
    "Accuracy = (TP + TN) / (TP + TN + FP + FN) <p>\n",
    "F-score: .91 <p>\n",
    "(Precision*Recall)/(Precision+Recall) <p>"
   ]
  },
  {
   "cell_type": "markdown",
   "metadata": {},
   "source": [
    "## Appendix"
   ]
  },
  {
   "cell_type": "markdown",
   "metadata": {},
   "source": [
    "### Code for Evaluating the DevTest set"
   ]
  },
  {
   "cell_type": "code",
   "execution_count": 4,
   "metadata": {},
   "outputs": [
    {
     "name": "stdout",
     "output_type": "stream",
     "text": [
      "15 2 16 1\n"
     ]
    }
   ],
   "source": [
    "pred = {}\n",
    "with open(\"/Users/amyburkhardt/Dropbox/NLP Readings/hw 2/burkhardt-amy-assgn3-test-output.txt\") as f:\n",
    "    for line in f:\n",
    "       (key, val) = line.split(\"\\t\")\n",
    "       pred[key] = val.rstrip()\n",
    "        \n",
    "truth = {}\n",
    "with open(\"/Users/amyburkhardt/Dropbox/NLP Readings/hw 2/eval_rand_neg_and_pos.txt\") as f:\n",
    "    for line in f:\n",
    "       (key, val) = line.split(\"\\t\")\n",
    "       truth[key] = val.rstrip()\n",
    "        \n",
    "TP = 0\n",
    "TN = 0\n",
    "FP = 0\n",
    "FN = 0\n",
    "for key, value in truth.items(): \n",
    "    if value == 'POS':\n",
    "        if pred[key] == 'POS':\n",
    "            TP += 1\n",
    "        else:\n",
    "            FN += 1\n",
    "    if value == 'NEG':\n",
    "        if pred[key] == 'NEG':\n",
    "            TN += 1\n",
    "        else: \n",
    "            FP +=1\n",
    "print(TP, FP, TN, FN)\n",
    "Precision = TP / (TP + FP)\n",
    "Recall = TP / (TP + FN)\n",
    "Accuracy= (TP + TN) / (TP + TN + FP + FN)\n",
    "F_score = 2*(Precision*Recall)/(Precision+Recall)"
   ]
  },
  {
   "cell_type": "markdown",
   "metadata": {},
   "source": [
    "### Code for Dividing the Sample into Train and DevTest"
   ]
  },
  {
   "cell_type": "code",
   "execution_count": null,
   "metadata": {
    "collapsed": true
   },
   "outputs": [],
   "source": [
    "## Positive Reviews\n",
    "keep_prob = .80\n",
    "\n",
    "# path to the training output file\n",
    "train_path = \"/Users/amyburkhardt/Dropbox/NLP Readings/hw 2/hotelPosT-rand_training.txt\"\n",
    "# path to the testing output file\n",
    "test_path = \"/Users/amyburkhardt/Dropbox/NLP Readings/hw 2/rand_test_neg_and_pos.txt\"\n",
    "\n",
    "# path to the evaluation file (review_id and POS or NEG)\n",
    "eval_path = \"/Users/amyburkhardt/Dropbox/NLP Readings/hw 2/eval_rand_neg_and_pos.txt\"\n",
    "\n",
    "# open output files\n",
    "train_f = open(train_path, 'w')\n",
    "test_f = open(test_path, 'w')\n",
    "eval_f = open(eval_path, 'w')\n",
    "\n",
    "\n",
    "tkeep_count = 0\n",
    "ttest_count = 0\n",
    "teval_count = 0 \n",
    "with open (\"/Users/amyburkhardt/Dropbox/NLP Readings/hw 2/hotelPosT-train.txt\") as pos: \n",
    "\n",
    "    for line in pos:\n",
    "        line = line.rstrip('\\n')\n",
    "        review_id = re.split('\\t',line)[0]\n",
    "        if random() <= keep_prob:\n",
    "            # write to train_corpus\n",
    "            train_f.write(line+'\\n')\n",
    "            tkeep_count += 1\n",
    "        else:\n",
    "            # write to test_corpus\n",
    "            test_f.write(line +'\\n')\n",
    "            ttest_count += 1\n",
    "            eval_f.write(review_id+'\\tPOS\\n')\n",
    "            teval_count += 1\n",
    "            \n",
    "    # close output files\n",
    "    train_f.close()\n",
    "    test_f.close()\n",
    "    eval_f.close()\n",
    "\n",
    "    # repor\n",
    "    print(\"Wrote %d lines to %s\" % (tkeep_count, train_path))\n",
    "    print(\"Wrote %d lines to %s\" % (ttest_count, test_path))\n",
    "    print(\"Wrote %d lines to %s\" % (teval_count, eval_path))\n",
    "    \n",
    "## Negative Reviews\n",
    "keep_prob = .80\n",
    "\n",
    "# path to the training output file\n",
    "train_path = \"/Users/amyburkhardt/Dropbox/NLP Readings/hw 2/hotelNegT-rand_training.txt\"\n",
    "# path to the testing output file\n",
    "test_path = \"/Users/amyburkhardt/Dropbox/NLP Readings/hw 2/rand_test_neg_and_pos.txt\"\n",
    "# path to the evaluation file (review_id and POS or NEG)\n",
    "eval_path = \"/Users/amyburkhardt/Dropbox/NLP Readings/hw 2/eval_rand_neg_and_pos.txt\"\n",
    "\n",
    "# open output files\n",
    "train_f = open(train_path, 'w')\n",
    "test_f = open(test_path, 'a')\n",
    "eval_f = open(eval_path, 'a')\n",
    "\n",
    "\n",
    "\n",
    "vkeep_count = 0\n",
    "vtest_count = 0\n",
    "veval_count = 0\n",
    "\n",
    "with open (\"/Users/amyburkhardt/Dropbox/NLP Readings/hw 2/hotelNegT-train.txt\") as pos: \n",
    "\n",
    "    for line in pos:\n",
    "        line = line.rstrip('\\n')\n",
    "        review_id = re.split('\\t',line)[0]\n",
    "        if random() <= keep_prob:\n",
    "            # write to train_corpus\n",
    "            train_f.write(line+'\\n')\n",
    "            vkeep_count += 1\n",
    "        else:\n",
    "            # write to test_corpus\n",
    "            test_f.write(line +'\\n')\n",
    "            vtest_count += 1\n",
    "            eval_f.write(review_id+'\\tNEG\\n')\n",
    "            veval_count += 1\n",
    "            \n",
    "            \n",
    "    # close output files\n",
    "    train_f.close()\n",
    "    test_f.close()\n",
    "    eval_f.close()\n",
    "\n",
    "    # report\n",
    "    print(\"Wrote %d lines to %s\" % (vkeep_count, train_path))\n",
    "    print(\"Wrote %d lines to %s\" % (vtest_count, test_path))\n",
    "    print(\"Wrote %d lines to %s\" % (veval_count, eval_path))"
   ]
  }
 ],
 "metadata": {
  "kernelspec": {
   "display_name": "Python 3",
   "language": "python",
   "name": "python3"
  },
  "language_info": {
   "codemirror_mode": {
    "name": "ipython",
    "version": 3
   },
   "file_extension": ".py",
   "mimetype": "text/x-python",
   "name": "python",
   "nbconvert_exporter": "python",
   "pygments_lexer": "ipython3",
   "version": "3.5.2"
  }
 },
 "nbformat": 4,
 "nbformat_minor": 2
}
