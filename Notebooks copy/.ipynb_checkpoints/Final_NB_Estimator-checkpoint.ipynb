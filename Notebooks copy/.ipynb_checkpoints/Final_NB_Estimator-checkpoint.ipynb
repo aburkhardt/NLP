{
 "cells": [
  {
   "cell_type": "code",
   "execution_count": 91,
   "metadata": {
    "collapsed": true
   },
   "outputs": [],
   "source": [
    "from collections import Counter\n",
    "import re\n",
    "import math"
   ]
  },
  {
   "cell_type": "code",
   "execution_count": 92,
   "metadata": {
    "collapsed": true
   },
   "outputs": [],
   "source": [
    "def get_training(path):\n",
    "    dat = []\n",
    "    with open(path) as f:\n",
    "        for line in f:\n",
    "            line = re.split('\\s', line)[1:-1] #ignore first and last element in the list.\n",
    "            line = [x.upper() for x in line]\n",
    "            line = [re.sub(r'[^A-Za-z|^0-9]+', '',x) for x in line] \n",
    "            dat.append(line)\n",
    "\n",
    "    new_list = [item for sublist in dat for item in sublist]\n",
    "    return new_list"
   ]
  },
  {
   "cell_type": "code",
   "execution_count": 93,
   "metadata": {
    "collapsed": true
   },
   "outputs": [],
   "source": [
    "wd = \"/Users/amyburkhardt/Dropbox/NLP Readings/hw 2/\""
   ]
  },
  {
   "cell_type": "code",
   "execution_count": 94,
   "metadata": {
    "collapsed": true
   },
   "outputs": [],
   "source": [
    "class1 = get_training(\"{}hotelPosT-rand_training.txt\".format(wd))\n",
    "class2 = get_training(\"{}hotelNegT-rand_training.txt\".format(wd))"
   ]
  },
  {
   "cell_type": "code",
   "execution_count": 95,
   "metadata": {
    "collapsed": true
   },
   "outputs": [],
   "source": [
    "# compute priors(prof said to ignore prior)\n",
    "p_class1 = math.log2(.5)\n",
    "p_class2 = math.log2(.5)"
   ]
  },
  {
   "cell_type": "code",
   "execution_count": 109,
   "metadata": {
    "collapsed": true
   },
   "outputs": [],
   "source": [
    "class NaiveBayes:\n",
    "    \"\"\" Implement Naive Bayes Estimator.\n",
    "    \"\"\"\n",
    "    \n",
    "    def __init__ (self, cat1, cat2):\n",
    "        \"\"\"Arguments: List of cat1 (POS) training data and list of cat2 (NEG) training data \"\"\"\n",
    "        \n",
    "        self.merge = cat1 + cat2\n",
    "        self.V =  len(set(self.merge))\n",
    "        self.prior = .5\n",
    "        \n",
    "        c1_count = dict(Counter(cat1))\n",
    "        c1_total = len(cat1)\n",
    "\n",
    "        c2_count = dict(Counter(cat2))\n",
    "        c2_total = len(cat2)\n",
    "        c1_conditional = self.conditional_prob(c1_count, c1_total)\n",
    "        c2_conditional = self.conditional_prob(c2_count, c2_total)\n",
    "        self.conditionals = [c1_conditional, c2_conditional]\n",
    "        \n",
    "    def conditional_prob (self, count, total): \n",
    "        keys = []\n",
    "        prob = []\n",
    "        for word in set(self.merge):\n",
    "            try: \n",
    "                probs = math.log2((count[word] + 1) / (total + self.V))\n",
    "            except:\n",
    "                probs = math.log2((1) / (total + self.V))\n",
    "    \n",
    "            keys.append(word)\n",
    "            prob.append(probs)\n",
    "\n",
    "        conditional = dict(zip(keys, prob))  \n",
    "        print(conditional)\n",
    "        return conditional\n",
    "    \n",
    "    def compute_prob_test (self, test):\n",
    "        prob_list = []\n",
    "        for cat in self.conditionals: \n",
    "            prob = self.prior\n",
    "            for word in test:\n",
    "                if word in cat: \n",
    "                    print(cat[word])\n",
    "                    prob += cat[word] \n",
    "            prob_list.append(prob) \n",
    "\n",
    "        if prob_list[0] > prob_list[1]: \n",
    "            result = 'POS'\n",
    "        else:\n",
    "            result = 'NEG'\n",
    "        return result"
   ]
  },
  {
   "cell_type": "code",
   "execution_count": 112,
   "metadata": {},
   "outputs": [
    {
     "data": {
      "text/plain": [
       "-1.0"
      ]
     },
     "execution_count": 112,
     "metadata": {},
     "output_type": "execute_result"
    }
   ],
   "source": [
    "math.log2(.5)"
   ]
  },
  {
   "cell_type": "code",
   "execution_count": 110,
   "metadata": {},
   "outputs": [],
   "source": [
    "nb = NaiveBayes(class1, class2)"
   ]
  },
  {
   "cell_type": "code",
   "execution_count": 105,
   "metadata": {},
   "outputs": [
    {
     "data": {
      "text/plain": [
       "'NEG'"
      ]
     },
     "execution_count": 105,
     "metadata": {},
     "output_type": "execute_result"
    }
   ],
   "source": [
    "nb.compute_prob_test(['BATHTUB'])"
   ]
  },
  {
   "cell_type": "code",
   "execution_count": 111,
   "metadata": {},
   "outputs": [
    {
     "name": "stdout",
     "output_type": "stream",
     "text": [
      "[0, 0]\n",
      "ID-1210\tNEG\n",
      "[0, 0]\n",
      "ID-1074\tNEG\n",
      "[-6.142463639286344, -5.849175097752231]\n",
      "ID-1046\tNEG\n",
      "[-6.142463639286344, -5.849175097752231]\n",
      "ID-1182\tNEG\n",
      "[-6.142463639286344, -5.849175097752231]\n",
      "ID-1106\tNEG\n",
      "[-6.142463639286344, -5.849175097752231]\n",
      "ID-1258\tNEG\n",
      "[-6.142463639286344, -5.849175097752231]\n",
      "ID-1232\tNEG\n",
      "[-6.142463639286344, -5.849175097752231]\n",
      "ID-1244\tNEG\n",
      "[0, 0]\n",
      "ID-1156\tNEG\n",
      "[0, 0]\n",
      "ID-1208\tNEG\n",
      "[-6.142463639286344, -5.849175097752231]\n",
      "ID-1096\tNEG\n",
      "[-6.142463639286344, -5.849175097752231]\n",
      "ID-1062\tNEG\n",
      "[-6.142463639286344, -5.849175097752231]\n",
      "ID-1136\tNEG\n",
      "[-6.142463639286344, -5.849175097752231]\n",
      "ID-1088\tNEG\n",
      "[0, 0]\n",
      "ID-1152\tNEG\n",
      "[-6.142463639286344, -5.849175097752231]\n",
      "ID-1100\tNEG\n",
      "[-6.142463639286344, -5.849175097752231]\n",
      "ID-0843\tNEG\n",
      "[0, 0]\n",
      "ID-0855\tNEG\n",
      "[-6.142463639286344, -5.849175097752231]\n",
      "ID-0879\tNEG\n",
      "[-5.255592009743383, -5.856264522538551]\n",
      "ID-0959\tPOS\n",
      "[-6.142463639286344, -5.849175097752231]\n",
      "ID-0829\tNEG\n",
      "[-5.255592009743383, -5.856264522538551]\n",
      "ID-0939\tPOS\n",
      "[0, 0]\n",
      "ID-0839\tNEG\n",
      "[0, 0]\n",
      "ID-1001\tNEG\n",
      "[-6.142463639286344, -5.849175097752231]\n",
      "ID-0847\tNEG\n",
      "[-6.142463639286344, -5.849175097752231]\n",
      "ID-0955\tNEG\n",
      "[0, 0]\n",
      "ID-0805\tNEG\n",
      "[-6.142463639286344, -5.849175097752231]\n",
      "ID-0833\tNEG\n",
      "[-5.255592009743383, -5.856264522538551]\n",
      "ID-0963\tPOS\n",
      "[-6.142463639286344, -5.849175097752231]\n",
      "ID-1011\tNEG\n",
      "[0, 0]\n",
      "ID-1033\tNEG\n",
      "[0, 0]\n",
      "ID-0811\tNEG\n",
      "[0, 0]\n",
      "ID-0923\tNEG\n",
      "[-6.142463639286344, -5.849175097752231]\n",
      "ID-0795\tNEG\n"
     ]
    }
   ],
   "source": [
    "with open(\"{}rand_test_neg_and_pos.txt\".format(wd)) as f:\n",
    "    for line in f:\n",
    "        review = re.split(' |\\t|\\n', line)[:-1]\n",
    "        review_id = review[0]\n",
    "        review_text = review[1]\n",
    "        review_text = [x.upper() for x in review_text]\n",
    "        review_text = [re.sub(r'[^A-Za-z|^0-9]+', '',x) for x in review_text] \n",
    "        result = nb.compute_prob_test(review_text)\n",
    "        with open(\"{}test_output.txt\".format(wd), \"a\") as text_file:\n",
    "            text_file.write(\"{}\\t{}\".format(review_id, result))\n",
    "            print(\"{}\\t{}\".format(review_id, result))\n",
    "        text_file.close() "
   ]
  },
  {
   "cell_type": "code",
   "execution_count": 189,
   "metadata": {
    "collapsed": true
   },
   "outputs": [],
   "source": [
    "def naive_bayes(): \n",
    "\n",
    "    \n",
    "    def preprocess (class_words): \n",
    "        class_words = [x.upper() for x in class_words]\n",
    "        class_words = [re.sub(r'[^A-Za-z|^0-9]+', '',x) for x in class_words] \n",
    "        return  class_words\n",
    "    \n",
    "    def countwords(class_words): \n",
    "        count = dict(Counter(class_words))\n",
    "        return count\n",
    "\n",
    "    def lenwords (class_words):\n",
    "        total = len(class_words)\n",
    "        return total\n",
    "        \n",
    "    def conditional_prob (count, total): \n",
    "        cond_prob_class1 = {}\n",
    "        keys = []\n",
    "        prob = []\n",
    "        for word in set(merge):\n",
    "            try: \n",
    "                probs = math.log2((count[word] + 1) / (total + V))\n",
    "            except: \n",
    "                probs = math.log2((1) / (total + V))\n",
    "    \n",
    "            keys.append(word)\n",
    "            prob.append(probs)\n",
    "\n",
    "        conditional = dict(zip(keys, prob))  \n",
    "        return conditional\n",
    "\n",
    "    def compute_prob_test (test, conditional_prob, prior):\n",
    "        prob = prior\n",
    "        for word in test:\n",
    "            if word in conditional_prob: \n",
    "                prob = conditional_prob[word] + prob\n",
    "        return prob\n",
    "    \n",
    "    \n",
    "    def evaluate (prob_1, prob_2):\n",
    "        if prob_1 > prob_2: \n",
    "            result = 'POS'\n",
    "        else:\n",
    "            result = 'NEG'\n",
    "        return result\n",
    "            \n",
    "    c1 = preprocess(class1)\n",
    "    c2 = preprocess(class2)\n",
    "    c1_count = countwords(c1)\n",
    "    c2_count = countwords(c2)\n",
    "    c1_total = lenwords(c1)\n",
    "    c2_total = lenwords(c2)\n",
    "    merge = c1 + c2\n",
    "    V = len(set(merge))\n",
    "    \n",
    "    class_1_conditional = conditional_prob(c1_count, c1_total)\n",
    "    class_2_conditional = conditional_prob(c2_count, c2_total)\n",
    "    \n",
    "    \n",
    "    with open(\"{}rand_test_neg_and_pos.txt\".format(wd)) as f:\n",
    "        for line in f:\n",
    "            review = re.split(' |\\t|\\n', line)[1:-1] #ignore first and last element in list\n",
    "            t = preprocess(review)\n",
    "            prob1 = compute_prob_test(t, class_1_conditional, p_class1)\n",
    "            prob2 = compute_prob_test(t, class_2_conditional, p_class2)\n",
    "            result = evaluate(prob1, prob2)\n",
    "            with open(\"{}test_output.txt\".format(wd), \"a\") as text_file:\n",
    "                text_file.write(\"{}\\t{}\\n\".format(review_id, result))\n",
    "            text_file.close() "
   ]
  },
  {
   "cell_type": "code",
   "execution_count": 190,
   "metadata": {
    "collapsed": true
   },
   "outputs": [],
   "source": [
    "naive_bayes()"
   ]
  }
 ],
 "metadata": {
  "kernelspec": {
   "display_name": "Python 3",
   "language": "python",
   "name": "python3"
  },
  "language_info": {
   "codemirror_mode": {
    "name": "ipython",
    "version": 3
   },
   "file_extension": ".py",
   "mimetype": "text/x-python",
   "name": "python",
   "nbconvert_exporter": "python",
   "pygments_lexer": "ipython3",
   "version": "3.5.2"
  }
 },
 "nbformat": 4,
 "nbformat_minor": 2
}
