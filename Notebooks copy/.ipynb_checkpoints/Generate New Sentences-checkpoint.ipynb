{
 "cells": [
  {
   "cell_type": "code",
   "execution_count": null,
   "metadata": {
    "collapsed": true
   },
   "outputs": [],
   "source": [
    "import pandas as pd\n",
    "import nltk\n",
    "from nltk.util import ngrams\n",
    "import re\n",
    "import random"
   ]
  },
  {
   "cell_type": "code",
   "execution_count": null,
   "metadata": {
    "collapsed": true
   },
   "outputs": [],
   "source": [
    "itemid = 'PL.Q12.BLS1.OE_B'"
   ]
  },
  {
   "cell_type": "code",
   "execution_count": null,
   "metadata": {},
   "outputs": [],
   "source": [
    "# read in item data; right now I am restricted only to correct responses. \n",
    "energy = pd.read_csv(\"energy.cr.csv\")\n",
    "dat = energy.loc[energy['Item'] == itemid]\n",
    "dat = dat.loc[energy['Dichotomous Response'] == '1']"
   ]
  },
  {
   "cell_type": "code",
   "execution_count": null,
   "metadata": {
    "collapsed": true
   },
   "outputs": [],
   "source": [
    "# add <s> and </s> around each response \n",
    "dat['Constructed Response'] = '<s> ' + dat['Constructed Response'].astype(str) + ' </s>'\n",
    "words = ', '.join(dat['Constructed Response'])\n",
    "words = words.split()\n",
    "bgs  = nltk.bigrams(words)\n",
    "# I'm including counts right now, but not currently using it. \n",
    "fdist = nltk.FreqDist(bgs)\n",
    "for k,v in fdist.items():\n",
    "    print(k,v)"
   ]
  },
  {
   "cell_type": "code",
   "execution_count": null,
   "metadata": {},
   "outputs": [],
   "source": [
    "# begin with all ngrams that contain <s> as the first element; randomly select one of those; add it to the sentence\n",
    "for i in range(150):\n",
    "    sentence = ''\n",
    "    begin = [t for t in fdist if t[0] == '<s>']\n",
    "    begin = random.choice(begin)\n",
    "    first = begin\n",
    "    sentence = ' '.join(first)\n",
    "    selected = begin\n",
    "    next_sequence = selected[0]\n",
    "    while next_sequence != \"</s>,\":\n",
    "        next_word = [t for t in fdist if t[0] == selected[1]]\n",
    "        selected = random.choice(next_word)\n",
    "        next_sequence = selected[1]\n",
    "        sentence += ' ' + next_sequence\n",
    "    print(sentence)\n",
    "\n",
    "    with open('fake_sentences_correct{}.txt'.format(itemid), 'a') as the_file:\n",
    "        the_file.write(sentence + \"\\n\")\n",
    "# while the results "
   ]
  }
 ],
 "metadata": {
  "kernelspec": {
   "display_name": "Python 3",
   "language": "python",
   "name": "python3"
  },
  "language_info": {
   "codemirror_mode": {
    "name": "ipython",
    "version": 3
   },
   "file_extension": ".py",
   "mimetype": "text/x-python",
   "name": "python",
   "nbconvert_exporter": "python",
   "pygments_lexer": "ipython3",
   "version": "3.5.2"
  }
 },
 "nbformat": 4,
 "nbformat_minor": 2
}
