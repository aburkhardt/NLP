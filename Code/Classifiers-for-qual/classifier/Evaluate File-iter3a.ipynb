{
 "cells": [
  {
   "cell_type": "markdown",
   "metadata": {},
   "source": [
    "# Evaluate file"
   ]
  },
  {
   "cell_type": "code",
   "execution_count": 10,
   "metadata": {},
   "outputs": [],
   "source": [
    "from class_utils import *\n",
    "import pickle\n"
   ]
  },
  {
   "cell_type": "code",
   "execution_count": 25,
   "metadata": {},
   "outputs": [],
   "source": [
    "iteration =  \"iter3a\"\n",
    "ev_filename = '2014-March.txt'\n",
    "\n",
    "# maps estimator model to pickled scikit-learn model file name:\n",
    "eval_dict = {\n",
    "    \"SVC-iter3a\": \"models/best_svc_{}.pickle\".format(iteration)\n",
    "}"
   ]
  },
  {
   "cell_type": "code",
   "execution_count": 26,
   "metadata": {},
   "outputs": [],
   "source": [
    "# load estimator models from disk\n",
    "models = {}\n",
    "for model, file in eval_dict.items():\n",
    "    with open(file, 'rb') as f:\n",
    "        loaded_model = pickle.load(f)\n",
    "    models[model] = loaded_model"
   ]
  },
  {
   "cell_type": "code",
   "execution_count": 27,
   "metadata": {},
   "outputs": [
    {
     "data": {
      "text/plain": [
       "{'SVC-iter3a': Pipeline(memory=None,\n",
       "      steps=[('vect', CountVectorizer(analyzer='word', binary=False, decode_error='strict',\n",
       "         dtype=<class 'numpy.int64'>, encoding='utf-8', input='content',\n",
       "         lowercase=True, max_df=0.45555555555555555, max_features=None,\n",
       "         min_df=1, ngram_range=(1, 3),\n",
       "         preprocessor=<function no...,\n",
       "   max_iter=-1, probability=False, random_state=None, shrinking=True,\n",
       "   tol=0.001, verbose=False))])}"
      ]
     },
     "execution_count": 27,
     "metadata": {},
     "output_type": "execute_result"
    }
   ],
   "source": [
    "models"
   ]
  },
  {
   "cell_type": "code",
   "execution_count": 28,
   "metadata": {},
   "outputs": [],
   "source": [
    "# get results for each estimatator model\n",
    "results = {}\n",
    "for model, estimator in models.items():\n",
    "    results[model] = evaluate_file(ev_filename, models[model])"
   ]
  },
  {
   "cell_type": "code",
   "execution_count": 29,
   "metadata": {},
   "outputs": [
    {
     "name": "stdout",
     "output_type": "stream",
     "text": [
      "Counts for SVC-iter3a:\n",
      "Number of NEG docs: 4062\n",
      "Number of POS docs: 655\n",
      "Percent POS: 13.89\n",
      "\n"
     ]
    }
   ],
   "source": [
    "# print result counts\n",
    "\n",
    "for model, result in results.items():\n",
    "    nneg = len(result[0])\n",
    "    npos = len(result[1])\n",
    "    print(\"Counts for %s:\" % model)\n",
    "    print(\"Number of NEG docs: %d\" % nneg)\n",
    "    print(\"Number of POS docs: %d\" % npos)\n",
    "    print(\"Percent POS: %.2f\" % (npos/(npos+nneg)*100))\n",
    "    print()"
   ]
  },
  {
   "cell_type": "code",
   "execution_count": 30,
   "metadata": {},
   "outputs": [
    {
     "name": "stdout",
     "output_type": "stream",
     "text": [
      "Top 3 of each class for SVC-iter3a:\n",
      "Class 0: \n",
      "Should Parents Opt Out of Testing?: On April 1 children across New York will pick up their No.... http://tinyurl.com/nv68aa4 #schoolcentrix\n",
      "\n",
      "Is it to late to opt out of testing....\n",
      "\n",
      "“ @livdett: Opting out of star testing was the best decision I've made all year! Reverse minimum days for livdett” you can do that?!?!\n",
      "\n",
      "\n",
      "Class 1: \n",
      "Flawed school assessments [Letter] http://www.baltimoresun.com/news/opinion/readersrespond/bs-ed-school-assessments-2014032707248117.story … #PARCC #tnedu #tnleg\n",
      "\n",
      "The #STAAR #optout movement spreading fast in Texas. Look at all the confirmed cases of opt outs: http://kyledmassey.com/opt-resources/\n",
      "\n",
      "Crap it's testing week at school #SBAC\n",
      "\n",
      "\n"
     ]
    }
   ],
   "source": [
    "# first three results of each class\n",
    "for model, result in results.items():\n",
    "    print(\"Top 3 of each class for %s:\" % model)\n",
    "    for c in result.keys():\n",
    "        print(\"Class %s: \" % str(c))\n",
    "        for tweet in result[c][:3]:\n",
    "            print(tweet[1])\n",
    "        print()"
   ]
  },
  {
   "cell_type": "code",
   "execution_count": 31,
   "metadata": {},
   "outputs": [],
   "source": [
    "# save results to disk\n",
    "for model, result in results.items():\n",
    "    for c in result.keys():\n",
    "        out_filename = \"output/%s_%s_out_class%d.txt\" % (ev_filename, model, c)\n",
    "        with open(out_filename, 'w') as f:\n",
    "            for line in result[c]:\n",
    "                f.write(\"%s\\t%s\" % line)"
   ]
  }
 ],
 "metadata": {
  "kernelspec": {
   "display_name": "Python 3",
   "language": "python",
   "name": "python3"
  },
  "language_info": {
   "codemirror_mode": {
    "name": "ipython",
    "version": 3
   },
   "file_extension": ".py",
   "mimetype": "text/x-python",
   "name": "python",
   "nbconvert_exporter": "python",
   "pygments_lexer": "ipython3",
   "version": "3.6.5"
  }
 },
 "nbformat": 4,
 "nbformat_minor": 2
}
