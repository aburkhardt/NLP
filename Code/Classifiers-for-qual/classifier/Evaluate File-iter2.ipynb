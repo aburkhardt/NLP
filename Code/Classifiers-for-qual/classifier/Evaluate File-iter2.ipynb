{
 "cells": [
  {
   "cell_type": "markdown",
   "metadata": {},
   "source": [
    "# Evaluate file"
   ]
  },
  {
   "cell_type": "code",
   "execution_count": 27,
   "metadata": {
    "collapsed": true
   },
   "outputs": [],
   "source": [
    "from class_utils import *\n",
    "import pickle\n"
   ]
  },
  {
   "cell_type": "code",
   "execution_count": 28,
   "metadata": {
    "collapsed": true
   },
   "outputs": [],
   "source": [
    "iteration =  \"iter2\"\n",
    "ev_filename = 'april_tweets.txt'\n",
    "\n",
    "# maps estimator model to pickled scikit-learn model file name:\n",
    "eval_dict = {\n",
    "    #\"NB\": \"models/best_nb.pickle\",\n",
    "    #\"NB-iter2\": \"models/best_nb_{}.pickle\".format(iteration)\n",
    "    \"SVC-iter2\": \"models/best_svc_{}.pickle\".format(iteration)\n",
    "    #\"SVC\": \"models/best_svc.pickle\"\n",
    "}"
   ]
  },
  {
   "cell_type": "code",
   "execution_count": 29,
   "metadata": {},
   "outputs": [],
   "source": [
    "# load estimator models from disk\n",
    "models = {}\n",
    "for model, file in eval_dict.items():\n",
    "    with open(file, 'rb') as f:\n",
    "        loaded_model = pickle.load(f)\n",
    "    models[model] = loaded_model"
   ]
  },
  {
   "cell_type": "code",
   "execution_count": 30,
   "metadata": {},
   "outputs": [
    {
     "data": {
      "text/plain": [
       "{'SVC-iter2': Pipeline(memory=None,\n",
       "      steps=[('vect', CountVectorizer(analyzer='word', binary=False, decode_error='strict',\n",
       "         dtype=<class 'numpy.int64'>, encoding='utf-8', input='content',\n",
       "         lowercase=True, max_df=0.37777777777777777, max_features=None,\n",
       "         min_df=1, ngram_range=(1, 3),\n",
       "         preprocessor=<function no...,\n",
       "   max_iter=-1, probability=False, random_state=None, shrinking=True,\n",
       "   tol=0.001, verbose=False))])}"
      ]
     },
     "execution_count": 30,
     "metadata": {},
     "output_type": "execute_result"
    }
   ],
   "source": [
    "models"
   ]
  },
  {
   "cell_type": "code",
   "execution_count": 31,
   "metadata": {
    "collapsed": true
   },
   "outputs": [],
   "source": [
    "# get results for each estimatator model\n",
    "results = {}\n",
    "for model, estimator in models.items():\n",
    "    results[model] = evaluate_file(ev_filename, models[model])"
   ]
  },
  {
   "cell_type": "code",
   "execution_count": 32,
   "metadata": {},
   "outputs": [
    {
     "name": "stdout",
     "output_type": "stream",
     "text": [
      "Counts for SVC-iter2:\n",
      "Number of NEG docs: 13033\n",
      "Number of POS docs: 68\n",
      "Percent POS: 0.52\n",
      "\n"
     ]
    }
   ],
   "source": [
    "# print result counts\n",
    "\n",
    "for model, result in results.items():\n",
    "    nneg = len(result[0])\n",
    "    npos = len(result[1])\n",
    "    print(\"Counts for %s:\" % model)\n",
    "    print(\"Number of NEG docs: %d\" % nneg)\n",
    "    print(\"Number of POS docs: %d\" % npos)\n",
    "    print(\"Percent POS: %.2f\" % (npos/(npos+nneg)*100))\n",
    "    print()"
   ]
  },
  {
   "cell_type": "code",
   "execution_count": 25,
   "metadata": {},
   "outputs": [
    {
     "name": "stdout",
     "output_type": "stream",
     "text": [
      "Top 3 of each class for SVC:\n",
      "Class 0: \n",
      "Jeb Bush should 'rethink' running for President. Jeb Bush: Parents should 'rethink' opting out of Common Core tests http://www.washingtonexaminer.com/jeb-bush-parents-should-rethink-opting-out-of-common-core-tests/article/2563854#.VUMUB9QfOTo.twitter …\n",
      "\n",
      "Legal Implications of High-Stakes Assessment: What States [ #SmarterBalanced & #PARCC] Should Know // v ERIC @scoopit http://sco.lt/8YyD5N\n",
      "\n",
      "Fairtest Reacts to Ongoing Computer-Administered #Testing Problems: Exams Crash in 9 States http://sco.lt/9My8cD  // #SBAC #education\n",
      "\n",
      "\n",
      "Class 1: \n",
      "One wonders why #ohleg Sen. GOP thought it a good idea to release #parcc recs on eve of #NFLDraft. But here they are http://bit.ly/1GAnDS0\n",
      "\n",
      "We want to be able to offer a good strong education for the students\" -Reviving Rapid City Schools on the #optout\"\n",
      "\n",
      "Sudbury's #SchoolCommittee divided on superintendent evaluation. #PARCC http://bit.ly/1Ew3nT8\n",
      "\n",
      "\n"
     ]
    }
   ],
   "source": [
    "# first three results of each class\n",
    "for model, result in results.items():\n",
    "    print(\"Top 3 of each class for %s:\" % model)\n",
    "    for c in result.keys():\n",
    "        print(\"Class %s: \" % str(c))\n",
    "        for tweet in result[c][:3]:\n",
    "            print(tweet[1])\n",
    "        print()"
   ]
  },
  {
   "cell_type": "code",
   "execution_count": 26,
   "metadata": {
    "collapsed": true
   },
   "outputs": [],
   "source": [
    "# save results to disk\n",
    "for model, result in results.items():\n",
    "    for c in result.keys():\n",
    "        out_filename = \"output/%s_out_class%d.txt\" % (model, c)\n",
    "        with open(out_filename, 'w') as f:\n",
    "            for line in result[c]:\n",
    "                f.write(\"%s\\t%s\" % line)"
   ]
  },
  {
   "cell_type": "code",
   "execution_count": null,
   "metadata": {
    "collapsed": true
   },
   "outputs": [],
   "source": []
  }
 ],
 "metadata": {
  "kernelspec": {
   "display_name": "Python 3",
   "language": "python",
   "name": "python3"
  },
  "language_info": {
   "codemirror_mode": {
    "name": "ipython",
    "version": 3
   },
   "file_extension": ".py",
   "mimetype": "text/x-python",
   "name": "python",
   "nbconvert_exporter": "python",
   "pygments_lexer": "ipython3",
   "version": "3.5.2"
  }
 },
 "nbformat": 4,
 "nbformat_minor": 2
}
