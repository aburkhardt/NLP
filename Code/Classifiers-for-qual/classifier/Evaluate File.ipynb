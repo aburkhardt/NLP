{
 "cells": [
  {
   "cell_type": "markdown",
   "metadata": {},
   "source": [
    "# Evaluate file"
   ]
  },
  {
   "cell_type": "code",
   "execution_count": 8,
<<<<<<< HEAD
<<<<<<< HEAD
   "metadata": {
    "collapsed": true
   },
=======
   "metadata": {},
>>>>>>> 326fdd27d3da41296a7962cf90dd8403b0ce5e7e
=======
   "metadata": {},
>>>>>>> 326fdd27d3da41296a7962cf90dd8403b0ce5e7e
   "outputs": [],
   "source": [
    "from class_utils import *\n",
    "import pickle\n"
   ]
  },
  {
   "cell_type": "code",
   "execution_count": 10,
<<<<<<< HEAD
<<<<<<< HEAD
   "metadata": {
    "collapsed": true
   },
=======
   "metadata": {},
>>>>>>> 326fdd27d3da41296a7962cf90dd8403b0ce5e7e
=======
   "metadata": {},
>>>>>>> 326fdd27d3da41296a7962cf90dd8403b0ce5e7e
   "outputs": [],
   "source": [
    "ev_filename = 'april_tweets.txt'\n",
    "\n",
    "# maps estimator model to pickled scikit-learn model file name:\n",
    "eval_dict = {\n",
    "    \"NB\": \"models/best_nb.pickle\",\n",
    "    \"SVC\": \"models/best_svc.pickle\"\n",
    "}"
   ]
  },
  {
   "cell_type": "code",
   "execution_count": 11,
<<<<<<< HEAD
<<<<<<< HEAD
   "metadata": {
    "collapsed": true
   },
=======
   "metadata": {},
>>>>>>> 326fdd27d3da41296a7962cf90dd8403b0ce5e7e
=======
   "metadata": {},
>>>>>>> 326fdd27d3da41296a7962cf90dd8403b0ce5e7e
   "outputs": [],
   "source": [
    "# load estimator models from disk\n",
    "models = {}\n",
    "for model, file in eval_dict.items():\n",
    "    with open(file, 'rb') as f:\n",
    "        loaded_model = pickle.load(f)\n",
    "    models[model] = loaded_model"
   ]
  },
  {
   "cell_type": "code",
   "execution_count": 21,
<<<<<<< HEAD
<<<<<<< HEAD
   "metadata": {
    "collapsed": true
   },
=======
   "metadata": {},
>>>>>>> 326fdd27d3da41296a7962cf90dd8403b0ce5e7e
=======
   "metadata": {},
>>>>>>> 326fdd27d3da41296a7962cf90dd8403b0ce5e7e
   "outputs": [],
   "source": [
    "# get results for each estimatator model\n",
    "results = {}\n",
    "for model, estimator in models.items():\n",
    "    results[model] = evaluate_file(ev_filename, models[model])"
   ]
  },
  {
   "cell_type": "code",
   "execution_count": 22,
   "metadata": {},
   "outputs": [
    {
     "name": "stdout",
     "output_type": "stream",
     "text": [
      "Counts for NB:\n",
      "Number of NEG docs: 14118\n",
      "Number of POS docs: 1533\n",
      "Percent POS: 9.79\n",
      "\n",
      "Counts for SVC:\n",
      "Number of NEG docs: 14711\n",
      "Number of POS docs: 940\n",
      "Percent POS: 6.01\n",
      "\n"
     ]
    }
   ],
   "source": [
    "# print result counts\n",
    "\n",
    "for model, result in results.items():\n",
    "    nneg = len(result[0])\n",
    "    npos = len(result[1])\n",
    "    print(\"Counts for %s:\" % model)\n",
    "    print(\"Number of NEG docs: %d\" % nneg)\n",
    "    print(\"Number of POS docs: %d\" % npos)\n",
    "    print(\"Percent POS: %.2f\" % (npos/(npos+nneg)*100))\n",
    "    print()"
   ]
  },
  {
   "cell_type": "code",
   "execution_count": 32,
   "metadata": {},
   "outputs": [
    {
     "name": "stdout",
     "output_type": "stream",
     "text": [
      "Top 3 of each class for NB:\n",
      "Class 0: \n",
      "\"Officials Suggests Not As http://j.mp/1PGXS9l #assemblybudgetcommittee #commissionerdavidhespe #jersey #parcc\"\n",
      "\n",
      "\"Jeb Bush should 'rethink' running for President. Jeb Bush: Parents should 'rethink' opting out of Common Core tests http://www.washingtonexaminer.com/jeb-bush-parents-should-rethink-opting-out-of-common-core-tests/article/2563854#.VUMUB9QfOTo.twitter�__�_\"\n",
      "\n",
      "\"Legal Implications of High-Stakes Assessment: What States [ #SmarterBalanced & #PARCC] Should Know // v ERIC @scoopit http://sco.lt/8YyD5N\"\n",
      "\n",
      "\n",
      "Class 1: \n",
      "\"#VIDE transitions to online assessments w/ #SBAC http://ln.is/blogspot.com/tTIOO�__�_\"\n",
      "\n",
      "\"Opting out of #testing debated statewide - http://ow.ly/M5JQl\"\n",
      "\n",
      "\"Jebby should 'rethink' RT @dcexaminer: Jeb Bush: Parents should 'rethink' opting out of Common Core tests http://washex.am/1DOe3tL\"\n",
      "\n",
      "\n",
      "Top 3 of each class for SVC:\n",
      "Class 0: \n",
      "\"Officials Suggests Not As http://j.mp/1PGXS9l #assemblybudgetcommittee #commissionerdavidhespe #jersey #parcc\"\n",
      "\n",
      "\"Jeb Bush should 'rethink' running for President. Jeb Bush: Parents should 'rethink' opting out of Common Core tests http://www.washingtonexaminer.com/jeb-bush-parents-should-rethink-opting-out-of-common-core-tests/article/2563854#.VUMUB9QfOTo.twitter�__�_\"\n",
      "\n",
      "\"Legal Implications of High-Stakes Assessment: What States [ #SmarterBalanced & #PARCC] Should Know // v ERIC @scoopit http://sco.lt/8YyD5N\"\n",
      "\n",
      "\n",
      "Class 1: \n",
      "\"100% of Seattle's Nathan Hale HS juniors #optout of #SBAC 95% at Ballard & Garfield 80% at Ingraham and Roosevelt.\"\n",
      "\n",
      "\"One wonders why #ohleg Sen. GOP thought it a good idea to release #parcc recs on eve of #NFLDraft. But here they are http://bit.ly/1GAnDS0\"\n",
      "\n",
      "\"We want to be able to offer a good strong education for the students\"\" -Reviving Rapid City Schools on the #optout\"\"\"\n",
      "\n",
      "\n"
     ]
    }
   ],
   "source": [
    "# first three results of each class\n",
    "for model, result in results.items():\n",
    "    print(\"Top 3 of each class for %s:\" % model)\n",
    "    for c in result.keys():\n",
    "        print(\"Class %s: \" % str(c))\n",
    "        for tweet in result[c][:3]:\n",
    "            print(tweet[1])\n",
    "        print()"
   ]
  },
  {
   "cell_type": "code",
   "execution_count": 38,
<<<<<<< HEAD
<<<<<<< HEAD
   "metadata": {
    "collapsed": true
   },
=======
   "metadata": {},
>>>>>>> 326fdd27d3da41296a7962cf90dd8403b0ce5e7e
=======
   "metadata": {},
>>>>>>> 326fdd27d3da41296a7962cf90dd8403b0ce5e7e
   "outputs": [],
   "source": [
    "# save results to disk\n",
    "for model, result in results.items():\n",
    "    for c in result.keys():\n",
    "        out_filename = \"%s_out_class%d.txt\" % (model, c)\n",
    "        with open(out_filename, 'w') as f:\n",
    "            for line in result[c]:\n",
    "                f.write(\"%s\\t%s\" % line)"
   ]
  }
 ],
 "metadata": {
  "kernelspec": {
   "display_name": "Python 3",
   "language": "python",
   "name": "python3"
  },
  "language_info": {
   "codemirror_mode": {
    "name": "ipython",
    "version": 3
   },
   "file_extension": ".py",
   "mimetype": "text/x-python",
   "name": "python",
   "nbconvert_exporter": "python",
   "pygments_lexer": "ipython3",
<<<<<<< HEAD
<<<<<<< HEAD
   "version": "3.5.2"
=======
   "version": "3.6.5rc1"
>>>>>>> 326fdd27d3da41296a7962cf90dd8403b0ce5e7e
=======
   "version": "3.6.5rc1"
>>>>>>> 326fdd27d3da41296a7962cf90dd8403b0ce5e7e
  }
 },
 "nbformat": 4,
 "nbformat_minor": 2
}
