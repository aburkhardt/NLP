{
 "cells": [
  {
   "cell_type": "markdown",
   "metadata": {},
   "source": [
    "# Evaluate file"
   ]
  },
  {
   "cell_type": "code",
   "execution_count": 2,
   "metadata": {},
   "outputs": [],
   "source": [
    "from class_utils import *\n",
    "import pickle\n"
   ]
  },
  {
   "cell_type": "code",
   "execution_count": 17,
   "metadata": {},
   "outputs": [],
   "source": [
    "iteration =  \"in-favor\"\n",
    "filepath = \"/Users/amyburkhardt/Documents/NLP/Code/combining-machine-qual/\"\n",
    "ev_filename = \"{}/new_data/2015-April.txt\".format(filepath)\n",
    "\n",
    "# maps estimator model to pickled scikit-learn model file name:\n",
    "eval_dict = {\n",
    "    \"SVC-{}\".format(iteration): \"{}/saved_models/best_svc_{}.pickle\".format(filepath,iteration)\n",
    "}"
   ]
  },
  {
   "cell_type": "code",
   "execution_count": 18,
   "metadata": {},
   "outputs": [],
   "source": [
    "# load estimator models from disk\n",
    "models = {}\n",
    "for model, file in eval_dict.items():\n",
    "    with open(file, 'rb') as f:\n",
    "        loaded_model = pickle.load(f)\n",
    "    models[model] = loaded_model"
   ]
  },
  {
   "cell_type": "code",
   "execution_count": 19,
   "metadata": {},
   "outputs": [
    {
     "data": {
      "text/plain": [
       "{'SVC-in-favor': Pipeline(memory=None,\n",
       "      steps=[('vect', CountVectorizer(analyzer='word', binary=False, decode_error='strict',\n",
       "         dtype=<class 'numpy.int64'>, encoding='utf-8', input='content',\n",
       "         lowercase=True, max_df=0.45555555555555555, max_features=None,\n",
       "         min_df=1, ngram_range=(1, 3),\n",
       "         preprocessor=<function no...,\n",
       "   max_iter=-1, probability=False, random_state=None, shrinking=True,\n",
       "   tol=0.001, verbose=False))])}"
      ]
     },
     "execution_count": 19,
     "metadata": {},
     "output_type": "execute_result"
    }
   ],
   "source": [
    "models"
   ]
  },
  {
   "cell_type": "code",
   "execution_count": 20,
   "metadata": {},
   "outputs": [],
   "source": [
    "# get results for each estimatator model\n",
    "results = {}\n",
    "for model, estimator in models.items():\n",
    "    results[model] = evaluate_file(ev_filename, models[model])"
   ]
  },
  {
   "cell_type": "code",
   "execution_count": 21,
   "metadata": {},
   "outputs": [
    {
     "name": "stdout",
     "output_type": "stream",
     "text": [
      "Counts for SVC-in-favor:\n",
      "Number of NEG docs: 12631\n",
      "Number of POS docs: 470\n",
      "Percent POS: 3.59\n",
      "\n"
     ]
    }
   ],
   "source": [
    "# print result counts\n",
    "\n",
    "for model, result in results.items():\n",
    "    nneg = len(result[0])\n",
    "    npos = len(result[1])\n",
    "    print(\"Counts for %s:\" % model)\n",
    "    print(\"Number of NEG docs: %d\" % nneg)\n",
    "    print(\"Number of POS docs: %d\" % npos)\n",
    "    print(\"Percent POS: %.2f\" % (npos/(npos+nneg)*100))\n",
    "    print()"
   ]
  },
  {
   "cell_type": "code",
   "execution_count": 22,
   "metadata": {},
   "outputs": [
    {
     "name": "stdout",
     "output_type": "stream",
     "text": [
      "Top 3 of each class for SVC-in-favor:\n",
      "Class 0: \n",
      "Jeb Bush should 'rethink' running for President. Jeb Bush: Parents should 'rethink' opting out of Common Core tests http://www.washingtonexaminer.com/jeb-bush-parents-should-rethink-opting-out-of-common-core-tests/article/2563854#.VUMUB9QfOTo.twitter …\n",
      "\n",
      "Legal Implications of High-Stakes Assessment: What States [ #SmarterBalanced & #PARCC] Should Know // v ERIC @scoopit http://sco.lt/8YyD5N\n",
      "\n",
      "Fairtest Reacts to Ongoing Computer-Administered #Testing Problems: Exams Crash in 9 States http://sco.lt/9My8cD  // #SBAC #education\n",
      "\n",
      "\n",
      "Class 1: \n",
      "According to a poll by the Economist only 30% of parents think #optout should be an option http://goo.gl/DWpA05 @BorowitzReport\n",
      "\n",
      "Opting Out of Testing http://www.eagleforum.org/publications/educate/apr15/opting-out-of-testing.html#.VULDJ1cWbp0.twitter … via @EagleForum\n",
      "\n",
      "Debates over testing crossing the line as opt outs put NM at risk http://goo.gl/SeYdGr @teacherromeronm\n",
      "\n",
      "\n"
     ]
    }
   ],
   "source": [
    "# first three results of each class\n",
    "for model, result in results.items():\n",
    "    print(\"Top 3 of each class for %s:\" % model)\n",
    "    for c in result.keys():\n",
    "        print(\"Class %s: \" % str(c))\n",
    "        for tweet in result[c][:3]:\n",
    "            print(tweet[1])\n",
    "        print()"
   ]
  },
  {
   "cell_type": "code",
   "execution_count": 23,
   "metadata": {},
   "outputs": [],
   "source": [
    "# save results to disk\n",
    "for model, result in results.items():\n",
    "    for c in result.keys():\n",
    "        out_filename = \"%sclassified_new_data/%s_%s_out_class%d.txt\" % (filepath,iteration, model, c)\n",
    "        with open(out_filename, 'w') as f:\n",
    "            for line in result[c]:\n",
    "                f.write(\"%s\\t%s\" % line)"
   ]
  }
 ],
 "metadata": {
  "kernelspec": {
   "display_name": "Python 3",
   "language": "python",
   "name": "python3"
  },
  "language_info": {
   "codemirror_mode": {
    "name": "ipython",
    "version": 3
   },
   "file_extension": ".py",
   "mimetype": "text/x-python",
   "name": "python",
   "nbconvert_exporter": "python",
   "pygments_lexer": "ipython3",
   "version": "3.6.5"
  }
 },
 "nbformat": 4,
 "nbformat_minor": 2
}
