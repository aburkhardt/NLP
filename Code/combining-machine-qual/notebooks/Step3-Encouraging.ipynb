{
 "cells": [
  {
   "cell_type": "markdown",
   "metadata": {},
   "source": [
    "# Evaluate file"
   ]
  },
  {
   "cell_type": "code",
   "execution_count": 3,
   "metadata": {},
   "outputs": [],
   "source": [
    "from class_utils import *\n",
    "import pickle\n"
   ]
  },
  {
   "cell_type": "code",
   "execution_count": 4,
   "metadata": {},
   "outputs": [],
   "source": [
    "iteration =  \"encouraging\"\n",
    "filepath = \"/Users/amyburkhardt/Documents/NLP/Code/combining-machine-qual/\"\n",
    "ev_filename = \"{}/new_data/2015-April.txt\".format(filepath)\n",
    "\n",
    "# maps estimator model to pickled scikit-learn model file name:\n",
    "eval_dict = {\n",
    "    \"SVC-{}\".format(iteration): \"{}/saved_models/best_svc_{}.pickle\".format(filepath,iteration)\n",
    "}"
   ]
  },
  {
   "cell_type": "code",
   "execution_count": 5,
   "metadata": {},
   "outputs": [],
   "source": [
    "# load estimator models from disk\n",
    "models = {}\n",
    "for model, file in eval_dict.items():\n",
    "    with open(file, 'rb') as f:\n",
    "        loaded_model = pickle.load(f)\n",
    "    models[model] = loaded_model"
   ]
  },
  {
   "cell_type": "code",
   "execution_count": 6,
   "metadata": {},
   "outputs": [
    {
     "data": {
      "text/plain": [
       "{'SVC-encouraging': Pipeline(memory=None,\n",
       "      steps=[('vect', CountVectorizer(analyzer='word', binary=False, decode_error='strict',\n",
       "         dtype=<class 'numpy.int64'>, encoding='utf-8', input='content',\n",
       "         lowercase=True, max_df=0.5333333333333333, max_features=None,\n",
       "         min_df=1, ngram_range=(1, 3),\n",
       "         preprocessor=<function nor...,\n",
       "   max_iter=-1, probability=False, random_state=None, shrinking=True,\n",
       "   tol=0.001, verbose=False))])}"
      ]
     },
     "execution_count": 6,
     "metadata": {},
     "output_type": "execute_result"
    }
   ],
   "source": [
    "models"
   ]
  },
  {
   "cell_type": "code",
   "execution_count": 7,
   "metadata": {},
   "outputs": [],
   "source": [
    "# get results for each estimatator model\n",
    "results = {}\n",
    "for model, estimator in models.items():\n",
    "    results[model] = evaluate_file(ev_filename, models[model])"
   ]
  },
  {
   "cell_type": "code",
   "execution_count": 8,
   "metadata": {},
   "outputs": [
    {
     "name": "stdout",
     "output_type": "stream",
     "text": [
      "Counts for SVC-encouraging:\n",
      "Number of NEG docs: 12973\n",
      "Number of POS docs: 128\n",
      "Percent POS: 0.98\n",
      "\n"
     ]
    }
   ],
   "source": [
    "# print result counts\n",
    "\n",
    "for model, result in results.items():\n",
    "    nneg = len(result[0])\n",
    "    npos = len(result[1])\n",
    "    print(\"Counts for %s:\" % model)\n",
    "    print(\"Number of NEG docs: %d\" % nneg)\n",
    "    print(\"Number of POS docs: %d\" % npos)\n",
    "    print(\"Percent POS: %.2f\" % (npos/(npos+nneg)*100))\n",
    "    print()"
   ]
  },
  {
   "cell_type": "code",
   "execution_count": 9,
   "metadata": {},
   "outputs": [
    {
     "name": "stdout",
     "output_type": "stream",
     "text": [
      "Top 3 of each class for SVC-encouraging:\n",
      "Class 0: \n",
      "Jeb Bush should 'rethink' running for President. Jeb Bush: Parents should 'rethink' opting out of Common Core tests http://www.washingtonexaminer.com/jeb-bush-parents-should-rethink-opting-out-of-common-core-tests/article/2563854#.VUMUB9QfOTo.twitter …\n",
      "\n",
      "Legal Implications of High-Stakes Assessment: What States [ #SmarterBalanced & #PARCC] Should Know // v ERIC @scoopit http://sco.lt/8YyD5N\n",
      "\n",
      "Fairtest Reacts to Ongoing Computer-Administered #Testing Problems: Exams Crash in 9 States http://sco.lt/9My8cD  // #SBAC #education\n",
      "\n",
      "\n",
      "Class 1: \n",
      "Curious about the #PARCC accessibility system? http://bit.ly/YRnWJB #PARCCreadypic.twitter.com/Kwbk1jX6pu\n",
      "\n",
      "Pros and cons of the #PARCC test. Have you any of your own to add or amend to this list? http://fb.me/4dX2Patm3\n",
      "\n",
      "Look at this PARCC Bingo game one of our LBS’ (Ms. Young) created!! #PARCCeyo #awesome #PARCC pic.twitter.com/QXUJaVi0g1\n",
      "\n",
      "\n"
     ]
    }
   ],
   "source": [
    "# first three results of each class\n",
    "for model, result in results.items():\n",
    "    print(\"Top 3 of each class for %s:\" % model)\n",
    "    for c in result.keys():\n",
    "        print(\"Class %s: \" % str(c))\n",
    "        for tweet in result[c][:3]:\n",
    "            print(tweet[1])\n",
    "        print()"
   ]
  },
  {
   "cell_type": "code",
   "execution_count": 10,
   "metadata": {},
   "outputs": [],
   "source": [
    "# save results to disk\n",
    "for model, result in results.items():\n",
    "    for c in result.keys():\n",
    "        out_filename = \"%sclassified_new_data/%s_%s_out_class%d.txt\" % (filepath,iteration, model, c)\n",
    "        with open(out_filename, 'w') as f:\n",
    "            for line in result[c]:\n",
    "                f.write(\"%s\\t%s\" % line)"
   ]
  }
 ],
 "metadata": {
  "kernelspec": {
   "display_name": "Python 3",
   "language": "python",
   "name": "python3"
  },
  "language_info": {
   "codemirror_mode": {
    "name": "ipython",
    "version": 3
   },
   "file_extension": ".py",
   "mimetype": "text/x-python",
   "name": "python",
   "nbconvert_exporter": "python",
   "pygments_lexer": "ipython3",
   "version": "3.6.5"
  }
 },
 "nbformat": 4,
 "nbformat_minor": 2
}
