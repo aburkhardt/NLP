{
 "cells": [
  {
   "cell_type": "markdown",
   "metadata": {},
   "source": [
    "# A Hidding Markov Model Approach for the Named Entity Recognition task  of identifying genes in biomedical journal article abstracts. "
   ]
  },
  {
   "cell_type": "markdown",
   "metadata": {},
   "source": [
    "## Overview"
   ]
  },
  {
   "cell_type": "markdown",
   "metadata": {},
   "source": [
    "My approach to this assignment, which was to \"implement a learning-based appraoch to named entity recogntion (NER)\" is almost identicial to the HMM sequencing labeling task (using a Viterbi decoder) of the second homework assignment -- but instead of hidden states of part-of-speech tags, in this example, the hidden states were IOB tags."
   ]
  },
  {
   "cell_type": "markdown",
   "metadata": {},
   "source": [
    "### IOB Tagging"
   ]
  },
  {
   "cell_type": "markdown",
   "metadata": {},
   "source": [
    "In IOB tagging for this work, the begining of a gene is labeled with a (B), all subsequent words are labeled with an (I) indicating that they are inside the entity type, and an (O) is assigned to all the tokens outside of the gene entity. "
   ]
  },
  {
   "cell_type": "markdown",
   "metadata": {},
   "source": [
    "## Intermediate Results"
   ]
  },
  {
   "cell_type": "markdown",
   "metadata": {},
   "source": [
    "Although this present implementation handles the decisions around the smoothing for both the emission and transition probabilities, as well as the treatment of the unknown words, a handful of different parameters were tested, and evaluated based on the intermediate validation sample (DevTest), which was a random 20% of sentences within the gene-trainF17.txt file (the other 80% of the data was used to train the model). \n"
   ]
  },
  {
   "cell_type": "markdown",
   "metadata": {},
   "source": [
    "\n",
    "\n",
    "insert table 1 here\n",
    "\n",
    ". <p>\n",
    ". <p>\n",
    ". <p>\n",
    ". <p>\n",
    ". <p>\n",
    ". <p>\n",
    ". <p>\n",
    ". <p>\n",
    ". <p>\n",
    ". <p>\n",
    ". <p>\n",
    ". <p>\n",
    "\n",
    "\n"
   ]
  },
  {
   "cell_type": "markdown",
   "metadata": {},
   "source": [
    "For this assignment, we are most interested in the F1-Measure, which is the harmonic mean (Precision*Recall)/(Precision + Recall). As a reminder, both Precision and Recall have the number of true positives as the numeriator and denominator. The difference is that the denominator for Precision is the sum of TP + FP; the denominator Recall is the sum of TP + FN. \n",
    "\n",
    "In this excersise, a true positive is considered a correctly identified gene. \n"
   ]
  },
  {
   "cell_type": "markdown",
   "metadata": {},
   "source": [
    "## Possible Next Steps"
   ]
  },
  {
   "cell_type": "markdown",
   "metadata": {
    "collapsed": true
   },
   "source": [
    "This named entity recognition task used the sequence classifier of HMM. However,an Maximum Entropy Markov Model (MEMM) might serve to improve the Precision and Recall. Using an MEMM would allow us to have both the IOB tagging, as well as other features that could be useful in determining whether or not a word or sequence of words is a gene. Some other features that I could use could be: if the token is a non-alphanumeric characeter (e.g., \"(\", \")\" or \"-\", if the token us upper-case, if the token doesn't contain any vowels (e.g., Sp1, mRNA). |"
   ]
  },
  {
   "cell_type": "code",
   "execution_count": null,
   "metadata": {
    "collapsed": true
   },
   "outputs": [],
   "source": []
  }
 ],
 "metadata": {
  "kernelspec": {
   "display_name": "Python 3",
   "language": "python",
   "name": "python3"
  },
  "language_info": {
   "codemirror_mode": {
    "name": "ipython",
    "version": 3
   },
   "file_extension": ".py",
   "mimetype": "text/x-python",
   "name": "python",
   "nbconvert_exporter": "python",
   "pygments_lexer": "ipython3",
   "version": "3.5.2"
  }
 },
 "nbformat": 4,
 "nbformat_minor": 2
}
