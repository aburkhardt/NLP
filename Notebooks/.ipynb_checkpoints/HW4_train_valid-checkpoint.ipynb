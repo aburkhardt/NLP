{
 "cells": [
  {
   "cell_type": "code",
   "execution_count": 1,
   "metadata": {
    "collapsed": true
   },
   "outputs": [],
   "source": [
    "from random import random\n",
    "import math\n",
    "import re"
   ]
  },
  {
   "cell_type": "code",
   "execution_count": 3,
   "metadata": {},
   "outputs": [
    {
     "name": "stdout",
     "output_type": "stream",
     "text": [
      "Wrote 171 lines to /Users/amyburkhardt/Dropbox/NLP Readings/hw4/rand_train_T.txt\n",
      "Wrote 43 lines to /Users/amyburkhardt/Dropbox/NLP Readings/hw4/rand_test_T_and_F.txt\n",
      "Wrote 43 lines to /Users/amyburkhardt/Dropbox/NLP Readings/hw4/eval_rand_T_and_F.txt\n"
     ]
    }
   ],
   "source": [
    "## Positive Reviews\n",
    "keep_prob = .80\n",
    "\n",
    "# path to the training output file\n",
    "train_path = \"/Users/amyburkhardt/Dropbox/NLP Readings/hw4/rand_train_T.txt\"\n",
    "# path to the testing output file\n",
    "test_path = \"/Users/amyburkhardt/Dropbox/NLP Readings/hw4/rand_test_T_and_F.txt\"\n",
    "\n",
    "# path to the evaluation file (review_id and POS or NEG)\n",
    "eval_path = \"/Users/amyburkhardt/Dropbox/NLP Readings/hw4/eval_rand_T_and_F.txt\"\n",
    "\n",
    "# open output files\n",
    "train_f = open(train_path, 'w')\n",
    "test_f = open(test_path, 'w')\n",
    "eval_f = open(eval_path, 'w')\n",
    "\n",
    "\n",
    "tkeep_count = 0\n",
    "ttest_count = 0\n",
    "teval_count = 0 \n",
    "with open (\"/Users/amyburkhardt/Dropbox/NLP Readings/hw4/hotelT-train_with_sentiment.txt\") as pos: \n",
    "\n",
    "    for line in pos:\n",
    "        line = line.rstrip('\\n')\n",
    "        review_id = re.split('\\t',line)[0]\n",
    "        if random() <= keep_prob:\n",
    "            # write to train_corpus\n",
    "            train_f.write(line+'\\n')\n",
    "            tkeep_count += 1\n",
    "        else:\n",
    "            # write to test_corpus\n",
    "            test_f.write(line +'\\n')\n",
    "            ttest_count += 1\n",
    "            eval_f.write(review_id+'\\tT\\n')\n",
    "            teval_count += 1\n",
    "            \n",
    "    # close output files\n",
    "    train_f.close()\n",
    "    test_f.close()\n",
    "    eval_f.close()\n",
    "\n",
    "    # repor\n",
    "    print(\"Wrote %d lines to %s\" % (tkeep_count, train_path))\n",
    "    print(\"Wrote %d lines to %s\" % (ttest_count, test_path))\n",
    "    print(\"Wrote %d lines to %s\" % (teval_count, eval_path))"
   ]
  },
  {
   "cell_type": "code",
   "execution_count": 27,
   "metadata": {},
   "outputs": [
    {
     "name": "stdout",
     "output_type": "stream",
     "text": [
      "Wrote 76 lines to /Users/amyburkhardt/Dropbox/NLP Readings/hw 2/hotelNegT-rand_training.txt\n",
      "Wrote 18 lines to /Users/amyburkhardt/Dropbox/NLP Readings/hw 2/rand_test_neg_and_pos.txt\n",
      "Wrote 18 lines to /Users/amyburkhardt/Dropbox/NLP Readings/hw 2/eval_rand_neg_and_pos.txt\n"
     ]
    }
   ],
   "source": [
    "## Negative Reviews\n",
    "keep_prob = .80\n",
    "\n",
    "# path to the training output file\n",
    "train_path = \"/Users/amyburkhardt/Dropbox/NLP Readings/hw 2/rand_train_T.txt\"\n",
    "# path to the testing output file\n",
    "test_path = \"/Users/amyburkhardt/Dropbox/NLP Readings/hw 2/rand_test_T_and_F.txt\"\n",
    "# path to the evaluation file (review_id and POS or NEG)\n",
    "eval_path = \"/Users/amyburkhardt/Dropbox/NLP Readings/hw 2/eval_rand_T_and_F.txt\"\n",
    "\n",
    "# open output files\n",
    "train_f = open(train_path, 'w')\n",
    "test_f = open(test_path, 'a')\n",
    "eval_f = open(eval_path, 'a')\n",
    "\n",
    "\n",
    "\n",
    "vkeep_count = 0\n",
    "vtest_count = 0\n",
    "veval_count = 0\n",
    "\n",
    "with open (\"/Users/amyburkhardt/Dropbox/NLP Readings/hw4/hotelF-train_with_sentiment.txt\") as pos: \n",
    "\n",
    "    for line in pos:\n",
    "        line = line.rstrip('\\n')\n",
    "        review_id = re.split('\\t',line)[0]\n",
    "        if random() <= keep_prob:\n",
    "            # write to train_corpus\n",
    "            train_f.write(line+'\\n')\n",
    "            vkeep_count += 1\n",
    "        else:\n",
    "            # write to test_corpus\n",
    "            test_f.write(line +'\\n')\n",
    "            vtest_count += 1\n",
    "            eval_f.write(review_id+'\\tF\\n')\n",
    "            veval_count += 1\n",
    "            \n",
    "            \n",
    "    # close output files\n",
    "    train_f.close()\n",
    "    test_f.close()\n",
    "    eval_f.close()\n",
    "\n",
    "    # report\n",
    "    print(\"Wrote %d lines to %s\" % (vkeep_count, train_path))\n",
    "    print(\"Wrote %d lines to %s\" % (vtest_count, test_path))\n",
    "    print(\"Wrote %d lines to %s\" % (veval_count, eval_path))"
   ]
  },
  {
   "cell_type": "code",
   "execution_count": null,
   "metadata": {
    "collapsed": true
   },
   "outputs": [],
   "source": []
  }
 ],
 "metadata": {
  "kernelspec": {
   "display_name": "Python 3",
   "language": "python",
   "name": "python3"
  },
  "language_info": {
   "codemirror_mode": {
    "name": "ipython",
    "version": 3
   },
   "file_extension": ".py",
   "mimetype": "text/x-python",
   "name": "python",
   "nbconvert_exporter": "python",
   "pygments_lexer": "ipython3",
   "version": "3.5.2"
  }
 },
 "nbformat": 4,
 "nbformat_minor": 2
}
