{
 "cells": [
  {
   "cell_type": "code",
   "execution_count": 235,
   "metadata": {
    "collapsed": true
   },
   "outputs": [],
   "source": [
    "# read in training\n",
    "train = pd.read_table(\"/Users/amyburkhardt/Dropbox/NLP Readings/hw 1/POS-training.txt\",'\\t', header=None, skip_blank_lines=True, names = ['word_Num', 'word', 'tag'])\n"
   ]
  },
  {
   "cell_type": "code",
   "execution_count": 215,
   "metadata": {
    "collapsed": true
   },
   "outputs": [],
   "source": [
    "import pandas as pd\n",
    "import numpy as np\n",
    "from collections import Counter"
   ]
  },
  {
   "cell_type": "code",
   "execution_count": 228,
   "metadata": {},
   "outputs": [],
   "source": [
    "tags = ['CC', 'CD',\n",
    "        'DT',\n",
    "        'EX',\n",
    "        'FW',\n",
    "        'IN', \n",
    "        'JJ', 'JJR', 'JJS',\n",
    "        'LS', \n",
    "        'MD',\n",
    "        'NN', 'NNS', 'NNP', 'NNPS',\n",
    "        'PDT', 'POS', 'PRP', 'PRP$',\n",
    "        'RB', 'RBR', 'RBS', 'RP',\n",
    "        'SYM', \n",
    "        'TO', \n",
    "        'UH', \n",
    "        'VB', 'VBD', 'VBG', 'VBN', 'VBP', 'VBZ',\n",
    "        'WDT', 'WP', 'WP$', 'WRB', \n",
    "        '$', '#', '\"', '(', ')', ',', '.', ':'\n",
    "       ]"
   ]
  },
  {
   "cell_type": "code",
   "execution_count": 247,
   "metadata": {},
   "outputs": [],
   "source": [
    "def ngram_dict(data, ngrams):\n",
    "    \"\"\"\n",
    "    Creates dict of ngrams (key) and count (value). \n",
    "    \n",
    "    Arguments: \n",
    "        DataFrame with 'tag' column \n",
    "    Returns:\n",
    "        A dict where key is either a unigram or a bigram tuple, and value is the count of the ngrams\n",
    "    \"\"\"\n",
    "    if ngrams == \"bigram\": \n",
    "        col_1 = data['tag']\n",
    "        col_2 = col_1[1:col_1.shape[0]]\n",
    "        ngram_count = list(zip(col_1, col_2))\n",
    "        ngram_count = dict(Counter(ngram_count))\n",
    "        \n",
    "    if ngrams == 'unigram': \n",
    "            ngram_count = dict(Counter(data.tag))\n",
    "    \n",
    "    return ngram_count\n",
    "    "
   ]
  },
  {
   "cell_type": "code",
   "execution_count": 253,
   "metadata": {},
   "outputs": [],
   "source": [
    "bigram_counts = ngram_dict(train, \"bigram\")\n",
    "unigram_counts = ngram_dict(train, \"unigram\")"
   ]
  },
  {
   "cell_type": "code",
   "execution_count": 1,
   "metadata": {
    "collapsed": true
   },
   "outputs": [],
   "source": [
    "# probabilities are computed as the following: \n",
    "# out of the times we see the first tag in a labeled corpus (denominator)\n",
    "# how often is the first tag folowed by the second (numerator)"
   ]
  },
  {
   "cell_type": "code",
   "execution_count": 310,
   "metadata": {},
   "outputs": [],
   "source": [
    "def compute_transition_matrix (tags, bigram_counts, unigram_counts):\n",
    "    \"\"\"\n",
    "    Compute probabilities for the transition matrix (44 x 43)\n",
    "    \n",
    "    Arguments: \n",
    "        tags: POS tags (that may or may not appear in training data)\n",
    "        bigram_counts: count of bigrams of POS tags in training data (used for numerator)\n",
    "        unigram_counts: count of unigram POS tag in training data (used for denominator)\n",
    "        \n",
    "    Returns: 44 x 43 matrix of transition probabilities for all possible POS tags\n",
    "    \n",
    "    \"\"\"\n",
    "\n",
    "    transition = [] # list of transition probabilities \n",
    "    \n",
    "    # first compute the starting probabilities \n",
    "\n",
    "    for x in tags: \n",
    "            pair = ('.',x) # here the period denotes the start of a sentence. Not very confident about this\n",
    "            denominator = unigram_counts['.']\n",
    "            try: \n",
    "                 numerator = bigram_counts[pair] + 1 \n",
    "            except:\n",
    "                 numerator = 1\n",
    "            transition.append(numerator / denominator)\n",
    "\n",
    "\n",
    "    # then compute everything else \n",
    "    \n",
    "    for x in tags:\n",
    "        for y in tags:\n",
    "            pair = (x,y)\n",
    "            try:\n",
    "                denominator = unigram_counts[x] + 1 \n",
    "            except: \n",
    "                denominator = 1\n",
    "            try: \n",
    "                numerator = bigram_counts[pair] + 1 \n",
    "            except:\n",
    "                numerator = 1 # this produces probabilities of 1, when they should be much loser to zero; not right. \n",
    "            transition.append(numerator / denominator)\n",
    "   \n",
    "    \n",
    "    transition = np.array(transition)\n",
    "    tran_matrix = transition.reshape(44,43)\n",
    "    \n",
    "    return tran_matrix\n"
   ]
  },
  {
   "cell_type": "code",
   "execution_count": 311,
   "metadata": {},
   "outputs": [],
   "source": [
    "tran = compute_transition_matrix (tags, bigram_counts, unigram_counts)"
   ]
  },
  {
   "cell_type": "code",
   "execution_count": 309,
   "metadata": {},
   "outputs": [
    {
     "data": {
      "text/plain": [
       "array([[  1.67773975e-03,   1.41601235e-02,   4.86544527e-02, ...,\n",
       "          6.71095900e-05,   1.34219180e-04,   6.71095900e-05],\n",
       "       [  4.97760080e-04,   1.06022897e-01,   9.25833748e-02, ...,\n",
       "          4.97760080e-04,   4.97760080e-04,   4.97760080e-04],\n",
       "       [  4.88360324e-02,   7.21153846e-02,   2.53036437e-04, ...,\n",
       "          2.53036437e-04,   1.08805668e-02,   2.53036437e-04],\n",
       "       ..., \n",
       "       [  1.00000000e+00,   1.00000000e+00,   1.00000000e+00, ...,\n",
       "          1.00000000e+00,   1.00000000e+00,   1.00000000e+00],\n",
       "       [  1.67762716e-03,   1.41591733e-02,   4.86511878e-02, ...,\n",
       "          6.71050866e-05,   1.34210173e-04,   6.71050866e-05],\n",
       "       [  1.66666667e-01,   1.66666667e-01,   1.66666667e-01, ...,\n",
       "          1.66666667e-01,   1.66666667e-01,   1.66666667e-01]])"
      ]
     },
     "execution_count": 309,
     "metadata": {},
     "output_type": "execute_result"
    }
   ],
   "source": [
    "tran"
   ]
  }
 ],
 "metadata": {
  "kernelspec": {
   "display_name": "Python 3",
   "language": "python",
   "name": "python3"
  },
  "language_info": {
   "codemirror_mode": {
    "name": "ipython",
    "version": 3
   },
   "file_extension": ".py",
   "mimetype": "text/x-python",
   "name": "python",
   "nbconvert_exporter": "python",
   "pygments_lexer": "ipython3",
   "version": "3.5.2"
  }
 },
 "nbformat": 4,
 "nbformat_minor": 2
}
