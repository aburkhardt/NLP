{
 "cells": [
  {
   "cell_type": "code",
   "execution_count": 28,
   "metadata": {
    "collapsed": true
   },
   "outputs": [],
   "source": [
    "import numpy as np"
   ]
  },
  {
   "cell_type": "code",
   "execution_count": 29,
   "metadata": {
    "collapsed": true
   },
   "outputs": [],
   "source": [
    "def  minEditDistR(target, source):\n",
    "   \"\"\" Minimum edit distance. Straight from the recurrence. \"\"\"\n",
    "\n",
    "   i = len(target); j = len(source)\n",
    "\n",
    "   if i == 0:  return j\n",
    "   elif j == 0: return i\n",
    "\n",
    "   return(min(minEditDistR(target[:i-1],source)+1,\n",
    "              minEditDistR(target, source[:j-1])+1,\n",
    "              minEditDistR(target[:i-1], source[:j-1])+substCost(source[j-1], target[i-1])))\n",
    "\n",
    "def substCost(x,y):\n",
    "    if x == y: return 0\n",
    "    else: return 2"
   ]
  },
  {
   "cell_type": "code",
   "execution_count": 30,
   "metadata": {},
   "outputs": [
    {
     "data": {
      "text/plain": [
       "8"
      ]
     },
     "execution_count": 30,
     "metadata": {},
     "output_type": "execute_result"
    }
   ],
   "source": [
    "minEditDistR('execution','intention')"
   ]
  },
  {
   "cell_type": "code",
   "execution_count": null,
   "metadata": {
    "collapsed": true
   },
   "outputs": [],
   "source": []
  }
 ],
 "metadata": {
  "kernelspec": {
   "display_name": "Python 3",
   "language": "python",
   "name": "python3"
  },
  "language_info": {
   "codemirror_mode": {
    "name": "ipython",
    "version": 3
   },
   "file_extension": ".py",
   "mimetype": "text/x-python",
   "name": "python",
   "nbconvert_exporter": "python",
   "pygments_lexer": "ipython3",
   "version": "3.5.2"
  }
 },
 "nbformat": 4,
 "nbformat_minor": 2
}
